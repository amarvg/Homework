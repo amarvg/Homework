{
 "cells": [
  {
   "cell_type": "markdown",
   "id": "a343acc9",
   "metadata": {},
   "source": [
    "# Homework 3 - Amarnath V. Gopal"
   ]
  },
  {
   "cell_type": "markdown",
   "id": "9da73e21",
   "metadata": {},
   "source": [
    "<div class=\"alert alert-info\">Data Types:</div><div"
   ]
  },
  {
   "cell_type": "markdown",
   "id": "895f70c0",
   "metadata": {},
   "source": [
    "<div class=\"alert alert-warning\">Q1. What is an algorithm?</div>\n",
    "<div class=\"alert alert-success\">Ans. An algorithm is a series of steps to solve a problem at hand.</div>\n",
    "\n",
    "<div class=\"alert alert-warning\">Q2. Variable names may not start with certain characters - name two?</div>\n",
    "<div class=\"alert alert-success\">Ans. Variable names cannot begin with a number/digit (0-9) and cannot contain special charachters except for underscore (_).</div>\n",
    "\n",
    "<div class=\"alert alert-warning\">Q3. What is a Semantic error?</div>\n",
    "<div class=\"alert alert-success\">Ans. Code is grammatically correct but doesn't make any sense; it does not produce the expected results.</div>\n",
    "\n",
    "<div class=\"alert alert-warning\">Q4. What is the #1 rule of coding / debugging?</div>\n",
    "<div class=\"alert alert-success\">Ans. The #1 Rule of coding/debbing is: Complexity is the enemy of efficiency! .</div>\n",
    "\n",
    "<div class=\"alert alert-warning\">Q5. List 5 Python reserved words</div>\n",
    "<div class=\"alert alert-success\">Ans. Here are 5 reserved words in Python: if, else, for, while, None.</div>"
   ]
  },
  {
   "cell_type": "markdown",
   "id": "70f4f128",
   "metadata": {},
   "source": [
    "<div class=\"alert alert-info\">Writing Code:</div><div"
   ]
  },
  {
   "cell_type": "code",
   "execution_count": 1,
   "id": "5fc52544",
   "metadata": {},
   "outputs": [
    {
     "name": "stdout",
     "output_type": "stream",
     "text": [
      "Name = Amar\n",
      "Fav. food = Ramen\n",
      "Dream job = Data Scientist\n",
      "\n",
      "The length of my string is 6\n",
      "\n",
      "The index value of the 4th character in my string is n \n",
      "\n",
      "ing Data Analytics and \n",
      "\n",
      "Learning Data Analytics and Python is Great!\n",
      "\n",
      "Test is Positive\n",
      "\n",
      "Hi my name is Amar, I am 5ft 7inch tall and 34 years old today. \n",
      "\n",
      "34.0\n"
     ]
    }
   ],
   "source": [
    "#6. Write a multi-line string with your name, favorite food, and dream job on 3 different lines\n",
    "Avg = ('Name = Amar\\n' 'Fav. food = Ramen\\n' 'Dream job = Data Scientist')\n",
    "print(Avg)\n",
    "\n",
    "\n",
    "#7. Assign 5 different data types to 5 different variables. At least one datatype must be a string\n",
    "_1 = ('string')\n",
    "_2 = [2]\n",
    "_3 = {'3'}\n",
    "_4 = {'a':4}\n",
    "_5 = (5)\n",
    "\n",
    "\n",
    "#7.a Print the length of your string\n",
    "print(\"\\nThe length of my string is\",len(_1))\n",
    "\n",
    "\n",
    "#7.b Print the index value of the 4th character in your string\n",
    "print(\"\\nThe index value of the 4th character in my string is\",_1[4],\"\\n\")\n",
    "\n",
    "\n",
    "#8. Create a new variable called savvy, and assign it the string with this phrase \"Learning Data Analytics and Python is Awesome!\"\n",
    "savvy = ('Learning Data Analytics and Python is Awesome!')\n",
    "\n",
    "\n",
    "#8.a Return a range of characters that slices the above string from the beginning of \"ing\" up to before \"and\"\n",
    "print(savvy[5:27],\"\\n\")\n",
    "\n",
    "\n",
    "#8.b Replace \"Awesome\" with \"great\" in the string\n",
    "savvy2 = savvy.replace('Awesome!', 'Great!')\n",
    "print(savvy2)\n",
    "\n",
    "\n",
    "#8.c Test and print the savvy string to see it contains \"Python\"\n",
    "if 'Python' in savvy:\n",
    "    print(\"\\nTest is Positive\")\n",
    "\n",
    "\n",
    "#9. Create and assign 3 more variables called name, age and length using the multi-variable naming method\n",
    "name, age, height = \"Amar\", \"34\", \"5ft 7inch\"\n",
    "\n",
    "\n",
    "#9.a Format a new string called 'miniBio' using variables in curly brackets to complete this phrase... \"Hi my name is (name), I am (tall) and (so) old today.\"\n",
    "minibio = (\n",
    "    f\"\\nHi my name is {name}, \"\n",
    "    f\"I am {height} tall \"\n",
    "    f\"and {age} years old today.\"\n",
    ")\n",
    "\n",
    "\n",
    "#9.b Print 'miniBio'\n",
    "print(minibio,\"\\n\") \n",
    "\n",
    " \n",
    "#9.c Cast and print the age variable to a float\n",
    "print(float(age))"
   ]
  },
  {
   "cell_type": "markdown",
   "id": "72b182fa",
   "metadata": {},
   "source": [
    "<div class=\"alert alert-info\">Lists:</div><div"
   ]
  },
  {
   "cell_type": "code",
   "execution_count": 2,
   "id": "10c9d83b",
   "metadata": {},
   "outputs": [
    {
     "name": "stdout",
     "output_type": "stream",
     "text": [
      "length of the list= 6 \n",
      "\n",
      "2nd list= [3.0, [4, 5, 6]] \n",
      "\n",
      "Sorted simlist= ['Python', 'R', 'SAS', 'SQL', 'Tableau', 'VScode'] \n",
      "\n",
      "2nd & 3rd list added together= [3.0, [4, 5, 6], 'Python', 'R', 'SAS', 'SQL', 'Tableau', 'VScode']\n"
     ]
    }
   ],
   "source": [
    "#10. Create a list of at least 5 elements of mixed data types\n",
    "list1 = ['A', {'B':2}, 3.0, [4,5,6], False]\n",
    "\n",
    "#10.a    - Replace a part of it with something else\n",
    "list1[4] = (True)\n",
    "\n",
    "#10.b    - Append or insert several more items to the list\n",
    "list1.append(\"six\" \"seven\" \"egith\")\n",
    "\n",
    "#10.c    - Find and print the length of the list\n",
    "print('length of the list=',len(list1),'\\n')\n",
    "\n",
    "#10.d    - Slice a sub-section of the 1st list, and save it to a different 2nd list\n",
    "list2 = list1[2:4]\n",
    "\n",
    "#10.d    - Print the 2nd list\n",
    "print('2nd list=',list2,'\\n')\n",
    "\n",
    "#10.e    - Extend your original list with the 2nd list sliced above\n",
    "list1.extend(list2)\n",
    "\n",
    "#10.f    - Create a new list called \"simList\" containing at least 5 elements of the same data type, either string, integer, float, or Boolean\n",
    "simlist = ['VScode', 'Tableau', 'R', 'Python', 'SAS', 'SQL']\n",
    "\n",
    "#10.g    - Sort \"simList\", and print the list\n",
    "simlist.sort()\n",
    "print('Sorted simlist=', simlist,'\\n')\n",
    "\n",
    "#10.h    - Copy the \"simList\" list to another 3rd list\n",
    "\n",
    "list3 = simlist.copy()\n",
    "\n",
    "#10.i    - Add the 2nd and 3rd lists together into a 4th list\n",
    "list4 = list2 + list3\n",
    "print('2nd & 3rd list added together=', list4)"
   ]
  },
  {
   "cell_type": "markdown",
   "id": "5ac63413",
   "metadata": {},
   "source": [
    "<div class=\"alert alert-info\">Tuples:</div><div"
   ]
  },
  {
   "cell_type": "code",
   "execution_count": 3,
   "id": "661fac25",
   "metadata": {},
   "outputs": [
    {
     "name": "stdout",
     "output_type": "stream",
     "text": [
      "12th element from the 2nd tuple = 1 \n",
      "\n",
      "Sorted 2nd tuple= (1, 2, 3, 4, 5, 6, 1, 2, 3, 4, 5, 6, 1, 2, 3, 4, 5, 6) \n",
      "\n",
      "a= 5 b= 6 c= 1 d= 2 \n",
      "\n",
      "Tuple with single item 50= (50,) \n",
      "\n",
      "2nd & 3rd tuple added together= (1, 2, 3, 4, 5, 6, 1, 2, 3, 4, 5, 6, 1, 2, 3, 4, 5, 6, 5, 6, 1, 2)\n"
     ]
    }
   ],
   "source": [
    "#11. Create a tuple of about 5 elements\n",
    "tup1 = 1,2,3,4,5,6\n",
    "\n",
    "#   Multiply your tuple by 3 and save it to a new 2nd tuple\n",
    "tup2 = tup1 * 3\n",
    "\n",
    "#   Access and print the 12th element from the 2nd tuple\n",
    "print('12th element from the 2nd tuple =', tup2[12], '\\n')\n",
    "\n",
    "#   Sort the 2nd tuple and print it\n",
    "sorted(tup2)\n",
    "print('Sorted 2nd tuple=', tup2,'\\n')\n",
    "\n",
    "#   Copy 4 specific elements from your 2nd tuple to a new 3nd tuple\n",
    "tup3 = tup2[4:8]\n",
    "\n",
    "#   Unpack the 3rd tuple into 4 variables and print these variables\n",
    "(a, b, c, d) = tup3\n",
    "print('a=', a, 'b=', b, 'c=', c,'d=', d, '\\n')\n",
    " \n",
    "#   Create a 4th tuple with single item 50 and print this tuple\n",
    "tup4 = (50,)\n",
    "print('Tuple with single item 50=', tup4, '\\n')\n",
    "\n",
    "#   Add the 2nd and 3rd tuple together into a 5th tuple and print the tuple\n",
    "tup5 = tup2 + tup3\n",
    "print('2nd & 3rd tuple added together=', tup5)"
   ]
  },
  {
   "cell_type": "markdown",
   "id": "7191a81f",
   "metadata": {},
   "source": [
    "<div class=\"alert alert-info\">Sets:</div><div"
   ]
  },
  {
   "cell_type": "code",
   "execution_count": 4,
   "id": "874b98ad",
   "metadata": {},
   "outputs": [
    {
     "name": "stdout",
     "output_type": "stream",
     "text": [
      "Updated set= {'strawberries', 'banana', 'apple', 'pomegranate', 'kiwi', 'mango'} \n",
      "\n",
      "remainder of set2= {'lamp', 'napkin', 'bottle'} \n",
      "\n",
      "Cleared set1= set() \n",
      "\n",
      "3rd set remainder elements= {'lamborghini', 'banana', 'napkin', 'bottle', 'apple', 'pomegranate', 'kiwi', 'lamp', 'mango'}\n"
     ]
    }
   ],
   "source": [
    "#12. Create a set of about 3 elements:\n",
    "set1 = {'kiwi', 'apple', 'strawberries'}\n",
    "\n",
    "#   Add a list of fruits to the above set and print the result:\n",
    "fruitlist = ['mango','banana','pomegranate']\n",
    "set1.update(fruitlist)\n",
    "print('Updated set=', set1,'\\n')\n",
    "\n",
    "#   Add a car element to your set:\n",
    "set1.add('lamborghini')\n",
    "\n",
    "#   Create a 2nd set with a few odd items:\n",
    "set2 = {'bottle', 'lamp', 'napkin', 'tire'}\n",
    "\n",
    "#   Save the union of 1st set and 2nd set to a 3rd set:\n",
    "set3 = set1.union(set2)\n",
    "\n",
    "#   Pop an element from the 2nd set, and print the remainder of the set\n",
    "set2.pop()\n",
    "print('remainder of set2=', set2, '\\n')\n",
    "\n",
    "#   Clear the 1st set and print the result:\n",
    "set1.clear()\n",
    "print('Cleared set1=', set1, '\\n')\n",
    "\n",
    "#   Discard an element, and remove another element from the 3rd set:\n",
    "set3.discard('tire')\n",
    "set3.remove('strawberries')\n",
    "\n",
    "#   Print the remainder of the 3rd set:\n",
    "print('3rd set remainder elements=', set3)"
   ]
  },
  {
   "cell_type": "markdown",
   "id": "ccf0fdce",
   "metadata": {},
   "source": [
    "<div class=\"alert alert-info\">Disctionaries:</div><div"
   ]
  },
  {
   "cell_type": "code",
   "execution_count": 5,
   "id": "42789435",
   "metadata": {},
   "outputs": [
    {
     "name": "stdout",
     "output_type": "stream",
     "text": [
      "Destination= ['Hua Hin', 'PKK', 'Thailand'] \n",
      "\n",
      "dict_keys(['Destination', 'Travel Date', 'Return Date', 'Reason', 'Flight', 'Fav. Color', 'Must Visit']) \n",
      "\n",
      "dict_values([['Hua Hin', 'PKK', 'Thailand'], 10.02, 11.07, 'Amar wants to', 30609, 'RED!', ['Blue Monkey', 'VIP Condo', 'Market Village']]) \n",
      "\n",
      "{'Destination': ['Hua Hin', 'PKK', 'Thailand'], 'Travel Date': 10.02, 'Return Date': 11.07, 'Reason': 'Amar wants to', 'Flight': 30609, 'Fav. Color': 'RED!', 'Must Visit': ['Blue Monkey', 'VIP Condo', 'Market Village']} \n",
      "\n",
      "{}\n"
     ]
    }
   ],
   "source": [
    "#13. Create a dictionary with at least 5 values of different data types:\n",
    "itinerary = {\n",
    "    \"Destination\": [\"Hua Hin\", \"PKK\", \"Thailand\"],\n",
    "    \"Travel Date\": 10.02,\n",
    "    \"Return Date\": 11.07,\n",
    "    \"Reason\": \"Leisure\",\n",
    "    \"Flight\": 30609\n",
    "}\n",
    "\n",
    "#   Print out 1 value:\n",
    "print('Destination=',itinerary[\"Destination\"], '\\n')\n",
    "\n",
    "#   Replace any one value in your dictionary with your name:\n",
    "itinerary[\"Reason\"] = \"Amar wants to\"\n",
    "\n",
    "#   Add your favorite color to the dictionary:\n",
    "itinerary[\"Fav. Color\"] = \"RED!\"\n",
    "\n",
    "#   Add a list, tuple or set to your dictionary:\n",
    "itinerary[\"Must Visit\"] = [\"Blue Monkey\", \"VIP Condo\", \"Market Village\"]\n",
    "\n",
    "#   Print a list of the dictionary keys:\n",
    "key_list = itinerary.keys()\n",
    "print(key_list,'\\n')\n",
    "\n",
    "#   Print a list of the dictionary values:\n",
    "value_list = itinerary.values()\n",
    "print(value_list,'\\n')\n",
    "\n",
    "#   Copy your 1st dictionary into a 2nd dictionary:\n",
    "copied_dict = itinerary.copy()\n",
    "\n",
    "#   Pop an item from the 2nd dictionary, and print the dictionary:\n",
    "copied_dict.pop(\"Fav. Color\")\n",
    "print(itinerary, '\\n')\n",
    "\n",
    "#   Remove all the elements from the 2nd dictionary and print the result:\n",
    "copied_dict.clear()\n",
    "print(copied_dict)"
   ]
  }
 ],
 "metadata": {
  "kernelspec": {
   "display_name": ".venv",
   "language": "python",
   "name": "python3"
  },
  "language_info": {
   "codemirror_mode": {
    "name": "ipython",
    "version": 3
   },
   "file_extension": ".py",
   "mimetype": "text/x-python",
   "name": "python",
   "nbconvert_exporter": "python",
   "pygments_lexer": "ipython3",
   "version": "3.13.2"
  }
 },
 "nbformat": 4,
 "nbformat_minor": 5
}
